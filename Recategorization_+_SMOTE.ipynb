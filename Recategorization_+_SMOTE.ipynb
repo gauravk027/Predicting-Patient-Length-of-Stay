{
  "cells": [
    {
      "cell_type": "code",
      "execution_count": null,
      "id": "2afaf57a",
      "metadata": {
        "id": "2afaf57a"
      },
      "outputs": [],
      "source": [
        "import pandas as pd\n",
        "import numpy as np\n",
        "import matplotlib.pyplot as plt\n",
        "import warnings\n",
        "import seaborn as sns\n",
        "from sklearn.neighbors import KNeighborsClassifier\n",
        "from sklearn.tree import DecisionTreeClassifier\n",
        "from sklearn.ensemble import RandomForestClassifier\n",
        "from sklearn.linear_model import LogisticRegression\n",
        "from sklearn.naive_bayes import GaussianNB\n",
        "from sklearn.metrics import accuracy_score,recall_score,precision_score,f1_score,roc_auc_score\n",
        "from time import time\n",
        "from xgboost import XGBClassifier\n",
        "from sklearn.model_selection import GridSearchCV\n",
        "import pickle\n",
        "\n",
        "from sklearn.model_selection import train_test_split\n",
        "\n",
        "\n",
        "warnings.filterwarnings('ignore')\n",
        "np.random.seed(42)"
      ]
    },
    {
      "cell_type": "code",
      "execution_count": null,
      "id": "cff16e54",
      "metadata": {
        "id": "cff16e54"
      },
      "outputs": [],
      "source": [
        "data = pd.read_csv('hcare.csv')"
      ]
    },
    {
      "cell_type": "code",
      "execution_count": null,
      "id": "ac9da517",
      "metadata": {
        "id": "ac9da517",
        "outputId": "e3c7b01e-6d1c-4fc8-951e-315a8d49534e"
      },
      "outputs": [
        {
          "name": "stdout",
          "output_type": "stream",
          "text": [
            "Dataset shape: (318438, 18)\n"
          ]
        }
      ],
      "source": [
        "print(f'Dataset shape: {data.shape}')"
      ]
    },
    {
      "cell_type": "code",
      "execution_count": null,
      "id": "d52b66cf",
      "metadata": {
        "id": "d52b66cf",
        "outputId": "b33ad854-d703-4b48-f504-aa1e623e742f"
      },
      "outputs": [
        {
          "data": {
            "text/html": [
              "<div>\n",
              "<style scoped>\n",
              "    .dataframe tbody tr th:only-of-type {\n",
              "        vertical-align: middle;\n",
              "    }\n",
              "\n",
              "    .dataframe tbody tr th {\n",
              "        vertical-align: top;\n",
              "    }\n",
              "\n",
              "    .dataframe thead th {\n",
              "        text-align: right;\n",
              "    }\n",
              "</style>\n",
              "<table border=\"1\" class=\"dataframe\">\n",
              "  <thead>\n",
              "    <tr style=\"text-align: right;\">\n",
              "      <th></th>\n",
              "      <th>case_id</th>\n",
              "      <th>Hospital_code</th>\n",
              "      <th>Hospital_type_code</th>\n",
              "      <th>City_Code_Hospital</th>\n",
              "      <th>Hospital_region_code</th>\n",
              "      <th>Available Extra Rooms in Hospital</th>\n",
              "      <th>Department</th>\n",
              "      <th>Ward_Type</th>\n",
              "      <th>Ward_Facility_Code</th>\n",
              "      <th>Bed Grade</th>\n",
              "      <th>patientid</th>\n",
              "      <th>City_Code_Patient</th>\n",
              "      <th>Type of Admission</th>\n",
              "      <th>Severity of Illness</th>\n",
              "      <th>Visitors with Patient</th>\n",
              "      <th>Age</th>\n",
              "      <th>Admission_Deposit</th>\n",
              "      <th>Stay</th>\n",
              "    </tr>\n",
              "  </thead>\n",
              "  <tbody>\n",
              "    <tr>\n",
              "      <th>0</th>\n",
              "      <td>1</td>\n",
              "      <td>8</td>\n",
              "      <td>c</td>\n",
              "      <td>3</td>\n",
              "      <td>Z</td>\n",
              "      <td>3</td>\n",
              "      <td>radiotherapy</td>\n",
              "      <td>R</td>\n",
              "      <td>F</td>\n",
              "      <td>2.0</td>\n",
              "      <td>31397</td>\n",
              "      <td>7.0</td>\n",
              "      <td>Emergency</td>\n",
              "      <td>Extreme</td>\n",
              "      <td>2</td>\n",
              "      <td>51-60</td>\n",
              "      <td>4911.0</td>\n",
              "      <td>0-10</td>\n",
              "    </tr>\n",
              "    <tr>\n",
              "      <th>1</th>\n",
              "      <td>2</td>\n",
              "      <td>2</td>\n",
              "      <td>c</td>\n",
              "      <td>5</td>\n",
              "      <td>Z</td>\n",
              "      <td>2</td>\n",
              "      <td>radiotherapy</td>\n",
              "      <td>S</td>\n",
              "      <td>F</td>\n",
              "      <td>2.0</td>\n",
              "      <td>31397</td>\n",
              "      <td>7.0</td>\n",
              "      <td>Trauma</td>\n",
              "      <td>Extreme</td>\n",
              "      <td>2</td>\n",
              "      <td>51-60</td>\n",
              "      <td>5954.0</td>\n",
              "      <td>41-50</td>\n",
              "    </tr>\n",
              "    <tr>\n",
              "      <th>2</th>\n",
              "      <td>3</td>\n",
              "      <td>10</td>\n",
              "      <td>e</td>\n",
              "      <td>1</td>\n",
              "      <td>X</td>\n",
              "      <td>2</td>\n",
              "      <td>anesthesia</td>\n",
              "      <td>S</td>\n",
              "      <td>E</td>\n",
              "      <td>2.0</td>\n",
              "      <td>31397</td>\n",
              "      <td>7.0</td>\n",
              "      <td>Trauma</td>\n",
              "      <td>Extreme</td>\n",
              "      <td>2</td>\n",
              "      <td>51-60</td>\n",
              "      <td>4745.0</td>\n",
              "      <td>31-40</td>\n",
              "    </tr>\n",
              "    <tr>\n",
              "      <th>3</th>\n",
              "      <td>4</td>\n",
              "      <td>26</td>\n",
              "      <td>b</td>\n",
              "      <td>2</td>\n",
              "      <td>Y</td>\n",
              "      <td>2</td>\n",
              "      <td>radiotherapy</td>\n",
              "      <td>R</td>\n",
              "      <td>D</td>\n",
              "      <td>2.0</td>\n",
              "      <td>31397</td>\n",
              "      <td>7.0</td>\n",
              "      <td>Trauma</td>\n",
              "      <td>Extreme</td>\n",
              "      <td>2</td>\n",
              "      <td>51-60</td>\n",
              "      <td>7272.0</td>\n",
              "      <td>41-50</td>\n",
              "    </tr>\n",
              "    <tr>\n",
              "      <th>4</th>\n",
              "      <td>5</td>\n",
              "      <td>26</td>\n",
              "      <td>b</td>\n",
              "      <td>2</td>\n",
              "      <td>Y</td>\n",
              "      <td>2</td>\n",
              "      <td>radiotherapy</td>\n",
              "      <td>S</td>\n",
              "      <td>D</td>\n",
              "      <td>2.0</td>\n",
              "      <td>31397</td>\n",
              "      <td>7.0</td>\n",
              "      <td>Trauma</td>\n",
              "      <td>Extreme</td>\n",
              "      <td>2</td>\n",
              "      <td>51-60</td>\n",
              "      <td>5558.0</td>\n",
              "      <td>41-50</td>\n",
              "    </tr>\n",
              "  </tbody>\n",
              "</table>\n",
              "</div>"
            ],
            "text/plain": [
              "   case_id  Hospital_code Hospital_type_code  City_Code_Hospital   \n",
              "0        1              8                  c                   3  \\\n",
              "1        2              2                  c                   5   \n",
              "2        3             10                  e                   1   \n",
              "3        4             26                  b                   2   \n",
              "4        5             26                  b                   2   \n",
              "\n",
              "  Hospital_region_code  Available Extra Rooms in Hospital    Department   \n",
              "0                    Z                                  3  radiotherapy  \\\n",
              "1                    Z                                  2  radiotherapy   \n",
              "2                    X                                  2    anesthesia   \n",
              "3                    Y                                  2  radiotherapy   \n",
              "4                    Y                                  2  radiotherapy   \n",
              "\n",
              "  Ward_Type Ward_Facility_Code  Bed Grade  patientid  City_Code_Patient   \n",
              "0         R                  F        2.0      31397                7.0  \\\n",
              "1         S                  F        2.0      31397                7.0   \n",
              "2         S                  E        2.0      31397                7.0   \n",
              "3         R                  D        2.0      31397                7.0   \n",
              "4         S                  D        2.0      31397                7.0   \n",
              "\n",
              "  Type of Admission Severity of Illness  Visitors with Patient    Age   \n",
              "0         Emergency             Extreme                      2  51-60  \\\n",
              "1            Trauma             Extreme                      2  51-60   \n",
              "2            Trauma             Extreme                      2  51-60   \n",
              "3            Trauma             Extreme                      2  51-60   \n",
              "4            Trauma             Extreme                      2  51-60   \n",
              "\n",
              "   Admission_Deposit   Stay  \n",
              "0             4911.0   0-10  \n",
              "1             5954.0  41-50  \n",
              "2             4745.0  31-40  \n",
              "3             7272.0  41-50  \n",
              "4             5558.0  41-50  "
            ]
          },
          "execution_count": 4,
          "metadata": {},
          "output_type": "execute_result"
        }
      ],
      "source": [
        "data.head()"
      ]
    },
    {
      "cell_type": "code",
      "execution_count": null,
      "id": "11c57fc6",
      "metadata": {
        "id": "11c57fc6",
        "outputId": "c6ff0752-8339-452a-a1f0-1750c7c3514a"
      },
      "outputs": [
        {
          "data": {
            "text/plain": [
              "case_id                                int64\n",
              "Hospital_code                          int64\n",
              "Hospital_type_code                    object\n",
              "City_Code_Hospital                     int64\n",
              "Hospital_region_code                  object\n",
              "Available Extra Rooms in Hospital      int64\n",
              "Department                            object\n",
              "Ward_Type                             object\n",
              "Ward_Facility_Code                    object\n",
              "Bed Grade                            float64\n",
              "patientid                              int64\n",
              "City_Code_Patient                    float64\n",
              "Type of Admission                     object\n",
              "Severity of Illness                   object\n",
              "Visitors with Patient                  int64\n",
              "Age                                   object\n",
              "Admission_Deposit                    float64\n",
              "Stay                                  object\n",
              "dtype: object"
            ]
          },
          "execution_count": 5,
          "metadata": {},
          "output_type": "execute_result"
        }
      ],
      "source": [
        "data.dtypes"
      ]
    },
    {
      "cell_type": "code",
      "execution_count": null,
      "id": "92497ff6",
      "metadata": {
        "id": "92497ff6",
        "outputId": "1706e808-561f-40c1-c661-1a4bbaf216c2"
      },
      "outputs": [
        {
          "data": {
            "text/plain": [
              "case_id                                 0\n",
              "Hospital_code                           0\n",
              "Hospital_type_code                      0\n",
              "City_Code_Hospital                      0\n",
              "Hospital_region_code                    0\n",
              "Available Extra Rooms in Hospital       0\n",
              "Department                              0\n",
              "Ward_Type                               0\n",
              "Ward_Facility_Code                      0\n",
              "Bed Grade                             113\n",
              "patientid                               0\n",
              "City_Code_Patient                    4532\n",
              "Type of Admission                       0\n",
              "Severity of Illness                     0\n",
              "Visitors with Patient                   0\n",
              "Age                                     0\n",
              "Admission_Deposit                       0\n",
              "Stay                                    0\n",
              "dtype: int64"
            ]
          },
          "execution_count": 6,
          "metadata": {},
          "output_type": "execute_result"
        }
      ],
      "source": [
        "data.isnull().sum()"
      ]
    },
    {
      "cell_type": "markdown",
      "id": "e81eae1c",
      "metadata": {
        "id": "e81eae1c"
      },
      "source": [
        "Removing case_id, patient and City_Code_Patient ID as they are irrelevant to the patient's length of stay. Two pairs, \"Hospital_region_code\" and \"City_Code_Hospital\" as well as \"Hospital_code\" and \"Hospital_type_code,\" we found high mutual information, so we will discard Hospital_code and City_Code_Hospital as well.\n",
        "\n"
      ]
    },
    {
      "cell_type": "code",
      "execution_count": null,
      "id": "4012c7ab",
      "metadata": {
        "id": "4012c7ab"
      },
      "outputs": [],
      "source": [
        "data.drop(['case_id', 'patientid', 'City_Code_Patient', 'Hospital_code', 'City_Code_Hospital'  ], axis=1, inplace=True)"
      ]
    },
    {
      "cell_type": "markdown",
      "id": "25eb5cda",
      "metadata": {
        "id": "25eb5cda"
      },
      "source": [
        "Removing the missing instance of the Bed Grade feature.\n"
      ]
    },
    {
      "cell_type": "code",
      "execution_count": null,
      "id": "d0597ac8",
      "metadata": {
        "id": "d0597ac8",
        "outputId": "8916abb4-b5da-447e-d0e2-0192c52baeba"
      },
      "outputs": [
        {
          "data": {
            "text/plain": [
              "Hospital_type_code                   0\n",
              "Hospital_region_code                 0\n",
              "Available Extra Rooms in Hospital    0\n",
              "Department                           0\n",
              "Ward_Type                            0\n",
              "Ward_Facility_Code                   0\n",
              "Bed Grade                            0\n",
              "Type of Admission                    0\n",
              "Severity of Illness                  0\n",
              "Visitors with Patient                0\n",
              "Age                                  0\n",
              "Admission_Deposit                    0\n",
              "Stay                                 0\n",
              "dtype: int64"
            ]
          },
          "execution_count": 8,
          "metadata": {},
          "output_type": "execute_result"
        }
      ],
      "source": [
        "data.dropna(subset = ['Bed Grade'], inplace = True)\n",
        "data.isnull().sum()"
      ]
    },
    {
      "cell_type": "code",
      "execution_count": null,
      "id": "df68dfd3",
      "metadata": {
        "id": "df68dfd3",
        "outputId": "9f0acba2-21cb-415e-dbe9-0c4e91aa9a5e"
      },
      "outputs": [
        {
          "name": "stdout",
          "output_type": "stream",
          "text": [
            "Duplicates in the dataset: 428\n",
            "Percentage of duplicates: 0.13445378151260504%\n"
          ]
        }
      ],
      "source": [
        "print(f'Duplicates in the dataset: {data.duplicated().sum()}')\n",
        "print(f'Percentage of duplicates: {data.duplicated().sum()/len(data)*100}%')"
      ]
    },
    {
      "cell_type": "code",
      "execution_count": null,
      "id": "7ac6339a",
      "metadata": {
        "id": "7ac6339a",
        "outputId": "7f27be66-a628-4fe2-cf3d-55a1b152e7b1"
      },
      "outputs": [
        {
          "name": "stdout",
          "output_type": "stream",
          "text": [
            "Duplicates in the dataset: 0\n",
            "Percentage of duplicates: 0.0%\n"
          ]
        }
      ],
      "source": [
        "data = data.drop_duplicates()\n",
        "print(f'Duplicates in the dataset: {data.duplicated().sum()}')\n",
        "print(f'Percentage of duplicates: {data.duplicated().sum()/len(data)*100}%')"
      ]
    },
    {
      "cell_type": "code",
      "execution_count": null,
      "id": "8c1bf886",
      "metadata": {
        "id": "8c1bf886"
      },
      "outputs": [],
      "source": [
        "data['Stay'].replace ('More than 100 Days', '>100', inplace=True)"
      ]
    },
    {
      "cell_type": "code",
      "execution_count": null,
      "id": "e0cd421d",
      "metadata": {
        "id": "e0cd421d"
      },
      "outputs": [],
      "source": [
        "data['Stay']= data['Stay'].replace({'0-10':0, '11-20':0, '21-30':1, '31-40':1, '41-50':1, '51-60':2,'61-70':2,'71-80':2,'81-90':2,'91-100':2,'>100':2})"
      ]
    },
    {
      "cell_type": "code",
      "execution_count": null,
      "id": "f690f7ab",
      "metadata": {
        "id": "f690f7ab",
        "outputId": "f37a1432-00a8-4717-8e41-51c182ef0997"
      },
      "outputs": [
        {
          "name": "stdout",
          "output_type": "stream",
          "text": [
            "\n",
            "Feature: Hospital_type_code\n",
            "['c', 'e', 'b', 'a', 'f', 'd', 'g']\n",
            "Categories (7, object): ['a', 'b', 'c', 'd', 'e', 'f', 'g']\n",
            "\n",
            "Feature: Hospital_region_code\n",
            "['Z', 'X', 'Y']\n",
            "Categories (3, object): ['X', 'Y', 'Z']\n",
            "\n",
            "Feature: Department\n",
            "['radiotherapy', 'anesthesia', 'gynecology', 'TB & Chest disease', 'surgery']\n",
            "Categories (5, object): ['TB & Chest disease', 'anesthesia', 'gynecology', 'radiotherapy', 'surgery']\n",
            "\n",
            "Feature: Ward_Type\n",
            "['R', 'S', 'Q', 'P', 'T', 'U']\n",
            "Categories (6, object): ['P', 'Q', 'R', 'S', 'T', 'U']\n",
            "\n",
            "Feature: Ward_Facility_Code\n",
            "['F', 'E', 'D', 'B', 'A', 'C']\n",
            "Categories (6, object): ['A', 'B', 'C', 'D', 'E', 'F']\n",
            "\n",
            "Feature: Type of Admission\n",
            "['Emergency', 'Trauma', 'Urgent']\n",
            "Categories (3, object): ['Emergency', 'Trauma', 'Urgent']\n",
            "\n",
            "Feature: Severity of Illness\n",
            "['Extreme', 'Moderate', 'Minor']\n",
            "Categories (3, object): ['Extreme', 'Minor', 'Moderate']\n",
            "\n",
            "Feature: Age\n",
            "['51-60', '71-80', '31-40', '41-50', '81-90', '61-70', '21-30', '11-20', '0-10', '91-100']\n",
            "Categories (10, object): ['0-10', '11-20', '21-30', '31-40', ..., '61-70', '71-80', '81-90', '91-100']\n"
          ]
        }
      ],
      "source": [
        "for feature in data.columns:\n",
        "    if data[feature].dtype == object:\n",
        "        print('\\nFeature:',feature)\n",
        "        print(pd.Categorical(data[feature].unique()))"
      ]
    },
    {
      "cell_type": "code",
      "execution_count": null,
      "id": "41e237d2",
      "metadata": {
        "id": "41e237d2",
        "outputId": "f4e9a464-e351-4a68-937c-f4e9747cfa35"
      },
      "outputs": [
        {
          "data": {
            "text/plain": [
              "Hospital_type_code                    object\n",
              "Hospital_region_code                  object\n",
              "Available Extra Rooms in Hospital      int64\n",
              "Department                            object\n",
              "Ward_Type                             object\n",
              "Ward_Facility_Code                    object\n",
              "Bed Grade                            float64\n",
              "Type of Admission                     object\n",
              "Severity of Illness                   object\n",
              "Visitors with Patient                  int64\n",
              "Age                                   object\n",
              "Admission_Deposit                    float64\n",
              "Stay                                   int64\n",
              "dtype: object"
            ]
          },
          "execution_count": 14,
          "metadata": {},
          "output_type": "execute_result"
        }
      ],
      "source": [
        "data.dtypes"
      ]
    },
    {
      "cell_type": "code",
      "execution_count": null,
      "id": "1fc4f9ce",
      "metadata": {
        "id": "1fc4f9ce"
      },
      "outputs": [],
      "source": [
        "data['Bed Grade'] = data['Bed Grade'].astype(object)"
      ]
    },
    {
      "cell_type": "code",
      "execution_count": null,
      "id": "2ba15304",
      "metadata": {
        "id": "2ba15304"
      },
      "outputs": [],
      "source": [
        "cat_col = list(data.select_dtypes(include=['object']).columns)\n",
        "label_enc_col = ['Bed Grade','Type of Admission','Severity of Illness', 'Age']\n",
        "one_hot_enc_col = list(set(cat_col) - set(label_enc_col))"
      ]
    },
    {
      "cell_type": "code",
      "execution_count": null,
      "id": "79a81cab",
      "metadata": {
        "id": "79a81cab"
      },
      "outputs": [],
      "source": [
        "label_enc_col = ['Bed Grade','Type of Admission','Severity of Illness', 'Age','Stay']"
      ]
    },
    {
      "cell_type": "code",
      "execution_count": null,
      "id": "bb58afa0",
      "metadata": {
        "id": "bb58afa0"
      },
      "outputs": [],
      "source": [
        "one_hot_enc_col = list(set(cat_col) - set(label_enc_col))"
      ]
    },
    {
      "cell_type": "code",
      "execution_count": null,
      "id": "b904b0ad",
      "metadata": {
        "id": "b904b0ad"
      },
      "outputs": [],
      "source": [
        "from sklearn.preprocessing import LabelEncoder\n",
        "label = LabelEncoder()\n",
        "for col in label_enc_col:\n",
        "    data[col] = label.fit_transform(data[col])\n",
        "\n",
        "\n",
        "data = pd.get_dummies(data=data, columns=one_hot_enc_col, dtype=int)\n"
      ]
    },
    {
      "cell_type": "code",
      "execution_count": null,
      "id": "becbefef",
      "metadata": {
        "id": "becbefef"
      },
      "outputs": [],
      "source": [
        "X = data.drop('Stay', axis=1)\n",
        "Y = data[['Stay']]"
      ]
    },
    {
      "cell_type": "code",
      "execution_count": null,
      "id": "57767ad4",
      "metadata": {
        "scrolled": true,
        "id": "57767ad4",
        "outputId": "dac0efdd-382e-42cd-94fb-6b89fe6393ff"
      },
      "outputs": [
        {
          "data": {
            "text/plain": [
              "Stay\n",
              "1    154092\n",
              "0    101588\n",
              "2     62217\n",
              "Name: count, dtype: int64"
            ]
          },
          "execution_count": 22,
          "metadata": {},
          "output_type": "execute_result"
        }
      ],
      "source": [
        "(Y['Stay'].value_counts())"
      ]
    },
    {
      "cell_type": "code",
      "execution_count": null,
      "id": "2ac0b7cf",
      "metadata": {
        "id": "2ac0b7cf"
      },
      "outputs": [],
      "source": [
        "X_train, X_test, Y_train, Y_test = train_test_split(X, Y, test_size = 0.20, random_state = 42,stratify=Y)"
      ]
    },
    {
      "cell_type": "code",
      "execution_count": null,
      "id": "149c6e20",
      "metadata": {
        "id": "149c6e20"
      },
      "outputs": [],
      "source": [
        "from sklearn.preprocessing import StandardScaler\n",
        "sc = StandardScaler()\n",
        "\n",
        "X_train[['Visitors with Patient','Admission_Deposit', 'Available Extra Rooms in Hospital']] = sc.fit_transform(X_train[['Visitors with Patient','Admission_Deposit', 'Available Extra Rooms in Hospital']])\n",
        "X_test[['Visitors with Patient','Admission_Deposit', 'Available Extra Rooms in Hospital']] = sc.transform(X_test[['Visitors with Patient','Admission_Deposit', 'Available Extra Rooms in Hospital']])\n"
      ]
    },
    {
      "cell_type": "code",
      "execution_count": null,
      "id": "0f5fe60a",
      "metadata": {
        "id": "0f5fe60a",
        "outputId": "ef0c03ae-01a6-414f-bc23-70aed07fde4c"
      },
      "outputs": [
        {
          "name": "stdout",
          "output_type": "stream",
          "text": [
            "RandomForestClassifier\n",
            "56.09\n",
            "KNeighborsClassifier\n",
            "54.84\n",
            "LogisticRegression\n",
            "56.85\n",
            "DecisionTreeClassifier\n",
            "51.3\n",
            "GaussianNB\n",
            "29.97\n",
            "XGBoost\n",
            "60.73\n"
          ]
        }
      ],
      "source": [
        "values= [RandomForestClassifier(), KNeighborsClassifier(), LogisticRegression(), DecisionTreeClassifier(), GaussianNB(), XGBClassifier()]\n",
        "\n",
        "keys= ['RandomForestClassifier',\n",
        "      'KNeighborsClassifier',\n",
        "       'LogisticRegression',\n",
        "       'DecisionTreeClassifier',\n",
        "       'GaussianNB',\n",
        "      'XGBoost']\n",
        "\n",
        "models= dict(zip(keys,values))\n",
        "accuracy_scores=[]\n",
        "train_times=[]\n",
        "\n",
        "for key,value in models.items():\n",
        "    t = time()\n",
        "    value.fit(X_train,Y_train)\n",
        "    duration = (time() - t) / 60\n",
        "    Y_pred= value.predict(X_test)\n",
        "    accuracy= accuracy_score(Y_test, Y_pred)\n",
        "    accuracy_scores.append(accuracy)\n",
        "    train_times.append(duration)\n",
        "    print(key)\n",
        "    print(round(accuracy * 100, 2))"
      ]
    },
    {
      "cell_type": "code",
      "execution_count": null,
      "id": "7d07f37b",
      "metadata": {
        "id": "7d07f37b"
      },
      "outputs": [],
      "source": [
        "from imblearn.over_sampling import SMOTE\n",
        "smote= SMOTE()\n",
        "X_sm, Y_sm = smote.fit_resample(X,Y)"
      ]
    },
    {
      "cell_type": "code",
      "execution_count": null,
      "id": "3a4a5657",
      "metadata": {
        "id": "3a4a5657",
        "outputId": "6e15880d-f227-44fc-e675-2a0ff23c0da7"
      },
      "outputs": [
        {
          "data": {
            "text/plain": [
              "Stay\n",
              "0       154092\n",
              "1       154092\n",
              "2       154092\n",
              "Name: count, dtype: int64"
            ]
          },
          "execution_count": 40,
          "metadata": {},
          "output_type": "execute_result"
        }
      ],
      "source": [
        "Y_sm.value_counts()"
      ]
    },
    {
      "cell_type": "code",
      "execution_count": null,
      "id": "f90b8311",
      "metadata": {
        "id": "f90b8311"
      },
      "outputs": [],
      "source": [
        "X_train, X_test, Y_train, Y_test = train_test_split(X_sm, Y_sm, test_size = 0.20, random_state = 42,stratify=Y_sm)"
      ]
    },
    {
      "cell_type": "code",
      "execution_count": null,
      "id": "f39def4d",
      "metadata": {
        "id": "f39def4d",
        "outputId": "97a28e2d-0e0f-44b7-ceb3-307523c00b72"
      },
      "outputs": [
        {
          "name": "stdout",
          "output_type": "stream",
          "text": [
            "RandomForestClassifier\n",
            "66.25\n",
            "KNeighborsClassifier\n",
            "66.29\n",
            "LogisticRegression\n",
            "58.87\n",
            "DecisionTreeClassifier\n",
            "61.46\n",
            "GaussianNB\n",
            "53.36\n",
            "XGBoost\n",
            "68.44\n"
          ]
        }
      ],
      "source": [
        "values= [RandomForestClassifier(), KNeighborsClassifier(), LogisticRegression(), DecisionTreeClassifier(), GaussianNB(), XGBClassifier()]\n",
        "\n",
        "keys= ['RandomForestClassifier',\n",
        "      'KNeighborsClassifier',\n",
        "       'LogisticRegression',\n",
        "       'DecisionTreeClassifier',\n",
        "       'GaussianNB',\n",
        "      'XGBoost']\n",
        "\n",
        "models= dict(zip(keys,values))\n",
        "accuracy_scores=[]\n",
        "train_times=[]\n",
        "\n",
        "for key,value in models.items():\n",
        "    t = time()\n",
        "    value.fit(X_train,Y_train)\n",
        "    duration = (time() - t) / 60\n",
        "    Y_pred= value.predict(X_test)\n",
        "    accuracy= accuracy_score(Y_test, Y_pred)\n",
        "    accuracy_scores.append(accuracy)\n",
        "    train_times.append(duration)\n",
        "    print(key)\n",
        "    print(round(accuracy * 100, 2))"
      ]
    },
    {
      "cell_type": "code",
      "execution_count": null,
      "id": "98224cc9",
      "metadata": {
        "id": "98224cc9"
      },
      "outputs": [],
      "source": []
    }
  ],
  "metadata": {
    "kernelspec": {
      "display_name": "Python 3 (ipykernel)",
      "language": "python",
      "name": "python3"
    },
    "language_info": {
      "codemirror_mode": {
        "name": "ipython",
        "version": 3
      },
      "file_extension": ".py",
      "mimetype": "text/x-python",
      "name": "python",
      "nbconvert_exporter": "python",
      "pygments_lexer": "ipython3",
      "version": "3.10.11"
    },
    "colab": {
      "provenance": []
    }
  },
  "nbformat": 4,
  "nbformat_minor": 5
}